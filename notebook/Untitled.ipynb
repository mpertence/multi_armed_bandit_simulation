{
 "cells": [
  {
   "cell_type": "code",
   "execution_count": 17,
   "id": "frank-straight",
   "metadata": {},
   "outputs": [
    {
     "name": "stdout",
     "output_type": "stream",
     "text": [
      "C:\\Users\n"
     ]
    }
   ],
   "source": [
    "import os\n",
    "os.chdir(\"../\")\n",
    "print(os.getcwd())"
   ]
  },
  {
   "cell_type": "code",
   "execution_count": 18,
   "id": "nutritional-newton",
   "metadata": {},
   "outputs": [],
   "source": [
    "import numpy as np\n",
    "from arm import Arm\n",
    "from bandit import Bandit\n",
    "from strategy import EpsilonGreedyStrategy, GreedyStrategy, RandomStrategy"
   ]
  },
  {
   "cell_type": "code",
   "execution_count": null,
   "id": "frozen-sheriff",
   "metadata": {},
   "outputs": [],
   "source": []
  },
  {
   "cell_type": "code",
   "execution_count": 51,
   "id": "demanding-textbook",
   "metadata": {},
   "outputs": [],
   "source": [
    "n = 0"
   ]
  },
  {
   "cell_type": "code",
   "execution_count": 67,
   "id": "favorite-antarctica",
   "metadata": {},
   "outputs": [
    {
     "name": "stdout",
     "output_type": "stream",
     "text": [
      "0.0\n",
      "choosed\n",
      "0.27374226990146205\n",
      "0.34462863501489266\n",
      "choosed\n",
      "0.38200225421212686\n",
      "0.41159994788426096\n",
      "choosed\n",
      "0.4286842683982096\n",
      "choosed\n",
      "0.44112471581802276\n",
      "choosed\n",
      "0.4504135272499485\n",
      "0.4629939237167758\n"
     ]
    }
   ],
   "source": [
    "for t in range(1,10):\n",
    "    if np.random.rand() < 0.30:\n",
    "        n += 1\n",
    "        print('choosed')\n",
    "    print(2 * (np.sqrt(np.log(t) / n)))"
   ]
  },
  {
   "cell_type": "code",
   "execution_count": 57,
   "id": "unexpected-moldova",
   "metadata": {},
   "outputs": [
    {
     "name": "stdout",
     "output_type": "stream",
     "text": [
      "9\n"
     ]
    }
   ],
   "source": [
    "print(n)"
   ]
  },
  {
   "cell_type": "code",
   "execution_count": null,
   "id": "blessed-spokesman",
   "metadata": {},
   "outputs": [],
   "source": []
  }
 ],
 "metadata": {
  "kernelspec": {
   "display_name": "Python 3",
   "language": "python",
   "name": "python3"
  },
  "language_info": {
   "codemirror_mode": {
    "name": "ipython",
    "version": 3
   },
   "file_extension": ".py",
   "mimetype": "text/x-python",
   "name": "python",
   "nbconvert_exporter": "python",
   "pygments_lexer": "ipython3",
   "version": "3.8.9"
  }
 },
 "nbformat": 4,
 "nbformat_minor": 5
}
